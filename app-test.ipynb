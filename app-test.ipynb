{
 "cells": [
  {
   "cell_type": "code",
   "execution_count": 1,
   "id": "437b9860",
   "metadata": {},
   "outputs": [],
   "source": [
    "# Data handling dependencies\n",
    "import pandas as pd\n",
    "import numpy as np\n",
    "import csv\n",
    "from sklearn.metrics.pairwise import cosine_similarity\n",
    "from sklearn.feature_extraction.text import CountVectorizer\n",
    "\n",
    "# Custom Libraries\n",
    "import sys\n",
    "sys.path.append(r'C:\\Users\\Kamogelo\\AppData\\Local\\Packages\\PythonSoftwareFoundation.Python.3.12_qbz5n2kfra8p0\\LocalCache\\local-packages\\Python312\\Scripts\\surprise.exe')\n",
    "from utils.data_loader import load_movie_titles\n",
    "from recommenders.collaborative_based import collab_model\n",
    "from recommenders.content_based import content_model\n"
   ]
  },
  {
   "cell_type": "code",
   "execution_count": 2,
   "id": "a5ba4f12",
   "metadata": {},
   "outputs": [],
   "source": [
    "\n",
    "# Data Loading\n",
    "title_list = load_movie_titles('resources/data/movies.csv')\n",
    "movies_df =  pd.read_csv('resources/data/movies.csv', index_col='movieId')"
   ]
  },
  {
   "cell_type": "markdown",
   "id": "3013f141",
   "metadata": {},
   "source": [
    "## Content-based filtering"
   ]
  },
  {
   "cell_type": "code",
   "execution_count": 3,
   "id": "07e8b82f",
   "metadata": {},
   "outputs": [],
   "source": [
    "\n",
    "def data_preprocessing(subset_size):\n",
    "    \"\"\"Prepare data for use within Content filtering algorithm.\n",
    "    Pandas Dataframe\n",
    "        Subset of movies selected for content-based filtering.\n",
    "\n",
    "    \"\"\"\n",
    "    # Split genre data into individual words.\n",
    "    movies['keyWords'] = movies['genres'].str.replace('|', ' ')\n",
    "    # Subset of the data\n",
    "    movies_subset = movies[:subset_size]\n",
    "    return movies_subset\n",
    " \n",
    "def content_model(movie_list,top_n=10): \n",
    "    \"\"\"Performs Content filtering based upon a list of movies supplied\n",
    "       by the app user.\n",
    "    \"\"\"\n",
    "    # Initializing the empty list of recommended movies\n",
    "    data = data_preprocessing(2000)\n",
    "    # Instantiating and generating the count matrix\n",
    "    count_vec = CountVectorizer()\n",
    "    count_matrix = count_vec.fit_transform(data['keyWords'])\n",
    "    indices = pd.Series(data['title'])\n",
    "    cosine_sim = cosine_similarity(count_matrix, count_matrix)\n",
    "    cosine_sim = pd.DataFrame(cosine_sim, index = data.index, columns = data.index)\n",
    "    # Getting the index of the movie that matches the title\n",
    "    idx_1 = indices[indices == movie_list[0]].index[0]\n",
    "    idx_2 = indices[indices == movie_list[1]].index[0]\n",
    "    idx_3 = indices[indices == movie_list[2]].index[0]\n",
    "    # Creating a Series with the similarity scores in descending order\n",
    "    rank_1 = cosine_sim[idx_1]\n",
    "    rank_2 = cosine_sim[idx_2]\n",
    "    rank_3 = cosine_sim[idx_3]\n",
    "    # Calculating the scores\n",
    "    score_series_1 = pd.Series(rank_1).sort_values(ascending = False)\n",
    "    score_series_2 = pd.Series(rank_2).sort_values(ascending = False)\n",
    "    score_series_3 = pd.Series(rank_3).sort_values(ascending = False)\n",
    "    # Getting the indexes of the 10 most similar movies\n",
    "    listings = pd.concat([score_series_1, score_series_2, score_series_3]).sort_values(ascending=False)\n",
    "    # Store movie names\n",
    "    recommended_movies = []\n",
    "    # Appending the names of movies\n",
    "    top_50_indexes = list(listings.iloc[1:50].index)\n",
    "    # Removing chosen movies\n",
    "    top_indexes = np.setdiff1d(top_50_indexes,[idx_1,idx_2,idx_3])\n",
    "    for i in top_indexes[:top_n]:\n",
    "        recommended_movies.append(list(movies['title'])[i])\n",
    "    return recommended_movies"
   ]
  },
  {
   "cell_type": "code",
   "execution_count": 4,
   "id": "44c489e6",
   "metadata": {},
   "outputs": [
    {
     "data": {
      "text/plain": [
       "['Dracula: Dead and Loving It (1995)',\n",
       " 'Lamerica (1994)',\n",
       " 'Confessional, The (Confessionnal, Le) (1995)',\n",
       " 'Eye for an Eye (1996)',\n",
       " 'In the Bleak Midwinter (1995)',\n",
       " \"Jupiter's Wife (1994)\",\n",
       " 'Frankie Starlight (1995)',\n",
       " 'Stars Fell on Henrietta, The (1995)',\n",
       " 'Drop Zone (1994)',\n",
       " 'Ed Wood (1994)']"
      ]
     },
     "execution_count": 4,
     "metadata": {},
     "output_type": "execute_result"
    }
   ],
   "source": [
    "movies = movies_df.dropna()\n",
    "movie_list = [title_list[1],title_list[2],title_list[3]]\n",
    "content_model(movie_list,top_n=10)"
   ]
  },
  {
   "cell_type": "markdown",
   "id": "57a4e8f0",
   "metadata": {},
   "source": [
    "## Collaborative-based filtering"
   ]
  },
  {
   "cell_type": "code",
   "execution_count": 5,
   "id": "22a01e56",
   "metadata": {},
   "outputs": [],
   "source": [
    "import pandas as pd\n",
    "import numpy as np\n",
    "import pickle\n",
    "import copy\n",
    "from surprise import Reader, Dataset\n",
    "from surprise import SVD, NormalPredictor, BaselineOnly, KNNBasic, NMF\n",
    "from sklearn.metrics.pairwise import cosine_similarity\n",
    "from sklearn.feature_extraction.text import CountVectorizer"
   ]
  },
  {
   "cell_type": "code",
   "execution_count": 6,
   "id": "f71e51c6",
   "metadata": {},
   "outputs": [],
   "source": [
    "# Importing data\n",
    "movies_df = pd.read_csv('resources/data/movies.csv',sep = ',')\n",
    "ratings_df = pd.read_csv('resources/data/ratings.csv')\n",
    "ratings_df.drop(['timestamp'], axis=1,inplace=True)\n",
    "\n",
    "# We make use of an SVD model trained on a subset of the MovieLens 10k dataset.\n",
    "model=pickle.load(open('resources/models/SVD.pkl', 'rb'))"
   ]
  },
  {
   "cell_type": "code",
   "execution_count": 7,
   "id": "a7665f88",
   "metadata": {},
   "outputs": [],
   "source": [
    "\n",
    "# We make use of an SVD model trained on a subset of the MovieLens 10k dataset.\n",
    "model=pickle.load(open('resources/models/SVD.pkl', 'rb'))\n",
    "\n",
    "def prediction_item(item_id):\n",
    "    \"\"\"Map a given favourite movie to users within the\n",
    "       MovieLens dataset with the same preference.\n",
    "\n",
    "    Parameters\n",
    "    ----------\n",
    "    item_id : int\n",
    "        A MovieLens Movie ID.\n",
    "\n",
    "    Returns\n",
    "    -------\n",
    "    list\n",
    "        User IDs of users with similar high ratings for the given movie.\n",
    "\n",
    "    \"\"\"\n",
    "    # Data preprosessing\n",
    "    reader = Reader(rating_scale=(0, 5))\n",
    "    load_df = Dataset.load_from_df(ratings_df,reader)\n",
    "    a_train = load_df.build_full_trainset()\n",
    "\n",
    "    predictions = []\n",
    "    for ui in a_train.all_users():\n",
    "        predictions.append(model.predict(iid=item_id,uid=ui, verbose = False))\n",
    "    return predictions\n",
    "\n",
    "def pred_movies(movie_list):\n",
    "    \"\"\"Maps the given favourite movies selected within the app to corresponding\n",
    "    users within the MovieLens dataset.\n",
    "\n",
    "    Parameters\n",
    "    ----------\n",
    "    movie_list : list\n",
    "        Three favourite movies selected by the app user.\n",
    "\n",
    "    Returns\n",
    "    -------\n",
    "    list\n",
    "        User-ID's of users with similar high ratings for each movie.\n",
    "\n",
    "    \"\"\"\n",
    "    # Store the id of users\n",
    "    id_store=[]\n",
    "    # For each movie selected by a user of the app,\n",
    "    # predict a corresponding user within the dataset with the highest rating\n",
    "    for i in movie_list:\n",
    "        predictions = prediction_item(item_id = i)\n",
    "        predictions.sort(key=lambda x: x.est, reverse=True)\n",
    "        # Take the top 10 user id's from each movie with highest rankings\n",
    "        for pred in predictions[:10]:\n",
    "            id_store.append(pred.uid)\n",
    "    # Return a list of user id's\n",
    "    return id_store\n",
    "\n",
    "# !! DO NOT CHANGE THIS FUNCTION SIGNATURE !!\n",
    "# You are, however, encouraged to change its content.  \n",
    "def collab_model(movie_list, top_n=10):\n",
    "    \"\"\"Performs Collaborative filtering based upon a list of movies supplied\n",
    "       by the app user.\n",
    "\n",
    "    Parameters\n",
    "    ----------\n",
    "    movie_list : list (str)\n",
    "        Favorite movies chosen by the app user.\n",
    "    top_n : type\n",
    "        Number of top recommendations to return to the user.\n",
    "\n",
    "    Returns\n",
    "    -------\n",
    "    list (str)\n",
    "        Titles of the top-n movie recommendations to the user.\n",
    "    \"\"\"\n",
    "    \n",
    "    # Retrieving indices of movies\n",
    "    indices = pd.Series(movies_df['title'])\n",
    "    \n",
    "    # Getting movie IDs based on the provided list\n",
    "    movie_ids = pred_movies(movie_list)\n",
    "    \n",
    "    # Collecting ratings for users who rated the movies from the provided list\n",
    "    df_init_users = ratings_df[ratings_df['userId'] == movie_ids[0]]\n",
    "    \n",
    "    # Concatenating ratings for each movie in the list\n",
    "    for i in movie_ids[1:]:  # Loop starts from the second movie_id\n",
    "        df_init_users = pd.concat([df_init_users, ratings_df[ratings_df['userId'] == i]])\n",
    "\n",
    "    # Getting the cosine similarity matrix\n",
    "    cosine_sim = cosine_similarity(df_init_users.drop(columns=['userId']), df_init_users.drop(columns=['userId']))\n",
    "    \n",
    "    # Retrieving indices of movies from the provided list\n",
    "    idx_1 = indices[indices == movie_list[0]].index[0]\n",
    "    idx_2 = indices[indices == movie_list[1]].index[0]\n",
    "    idx_3 = indices[indices == movie_list[2]].index[0]\n",
    "    \n",
    "    # Creating a Series with the similarity scores in descending order\n",
    "    rank_1 = cosine_sim[idx_1]\n",
    "    rank_2 = cosine_sim[idx_2]\n",
    "    rank_3 = cosine_sim[idx_3]\n",
    "    \n",
    "    # Calculating the scores\n",
    "    score_series_1 = pd.Series(rank_1).sort_values(ascending=False)\n",
    "    score_series_2 = pd.Series(rank_2).sort_values(ascending=False)\n",
    "    score_series_3 = pd.Series(rank_3).sort_values(ascending=False)\n",
    "    \n",
    "    # Appending the names of movies\n",
    "    listings = pd.concat([score_series_1, score_series_2, score_series_3]).sort_values(ascending=False)\n",
    "    \n",
    "    recommended_movies = []\n",
    "    \n",
    "    # Choose top 50\n",
    "    top_50_indexes = list(listings.iloc[1:50].index)\n",
    "    # Removing chosen movies\n",
    "    top_indexes = np.setdiff1d(top_50_indexes, [idx_1, idx_2, idx_3])\n",
    "    \n",
    "    # Getting the titles of the top-n recommended movies\n",
    "    for i in top_indexes[:top_n]:\n",
    "        recommended_movies.append(list(movies_df['title'])[i])\n",
    "    \n",
    "    return recommended_movies\n"
   ]
  },
  {
   "cell_type": "code",
   "execution_count": 8,
   "id": "6cb461c1",
   "metadata": {},
   "outputs": [
    {
     "data": {
      "text/plain": [
       "['Juror, The (1996)',\n",
       " 'White Balloon, The (Badkonake sefid) (1995)',\n",
       " 'Under Siege 2: Dark Territory (1995)',\n",
       " 'Burnt by the Sun (Utomlyonnye solntsem) (1994)',\n",
       " \"Muriel's Wedding (1994)\",\n",
       " 'Baby-Sitters Club, The (1995)',\n",
       " 'Ace Ventura: Pet Detective (1994)',\n",
       " 'Higher Learning (1995)',\n",
       " 'I Love Trouble (1994)',\n",
       " 'Tough and Deadly (1995)']"
      ]
     },
     "execution_count": 8,
     "metadata": {},
     "output_type": "execute_result"
    }
   ],
   "source": [
    "\n",
    "movie_list = [title_list[1],title_list[2],title_list[3]]\n",
    "collab_model(movie_list,top_n=10)"
   ]
  },
  {
   "cell_type": "markdown",
   "id": "d125a9c9",
   "metadata": {},
   "source": [
    "## API"
   ]
  },
  {
   "cell_type": "code",
   "execution_count": 9,
   "id": "a68bb062",
   "metadata": {},
   "outputs": [],
   "source": [
    "import requests\n",
    "from IPython.display import display, HTML\n",
    "\n",
    "def fetch_poster(movie_id):\n",
    "    url = \"https://api.themoviedb.org/3/movie/{}?api_key=c7ec19ffdd3279641fb606d19ceb9bb1&language=en-US\".format(movie_id)\n",
    "    data=requests.get(url)\n",
    "    data=data.json()\n",
    "    poster_path = data['poster_path']\n",
    "    full_path = \"https://image.tmdb.org/t/p/w500/\"+poster_path\n",
    "    return full_path"
   ]
  },
  {
   "cell_type": "code",
   "execution_count": 10,
   "id": "5a989dc2",
   "metadata": {},
   "outputs": [
    {
     "data": {
      "text/html": [
       "<div>\n",
       "<style scoped>\n",
       "    .dataframe tbody tr th:only-of-type {\n",
       "        vertical-align: middle;\n",
       "    }\n",
       "\n",
       "    .dataframe tbody tr th {\n",
       "        vertical-align: top;\n",
       "    }\n",
       "\n",
       "    .dataframe thead th {\n",
       "        text-align: right;\n",
       "    }\n",
       "</style>\n",
       "<table border=\"1\" class=\"dataframe\">\n",
       "  <thead>\n",
       "    <tr style=\"text-align: right;\">\n",
       "      <th></th>\n",
       "      <th>movieId</th>\n",
       "      <th>title</th>\n",
       "      <th>genres</th>\n",
       "    </tr>\n",
       "  </thead>\n",
       "  <tbody>\n",
       "    <tr>\n",
       "      <th>0</th>\n",
       "      <td>1</td>\n",
       "      <td>Toy Story (1995)</td>\n",
       "      <td>Adventure|Animation|Children|Comedy|Fantasy</td>\n",
       "    </tr>\n",
       "    <tr>\n",
       "      <th>1</th>\n",
       "      <td>2</td>\n",
       "      <td>Jumanji (1995)</td>\n",
       "      <td>Adventure|Children|Fantasy</td>\n",
       "    </tr>\n",
       "    <tr>\n",
       "      <th>2</th>\n",
       "      <td>3</td>\n",
       "      <td>Grumpier Old Men (1995)</td>\n",
       "      <td>Comedy|Romance</td>\n",
       "    </tr>\n",
       "    <tr>\n",
       "      <th>3</th>\n",
       "      <td>4</td>\n",
       "      <td>Waiting to Exhale (1995)</td>\n",
       "      <td>Comedy|Drama|Romance</td>\n",
       "    </tr>\n",
       "    <tr>\n",
       "      <th>4</th>\n",
       "      <td>5</td>\n",
       "      <td>Father of the Bride Part II (1995)</td>\n",
       "      <td>Comedy</td>\n",
       "    </tr>\n",
       "  </tbody>\n",
       "</table>\n",
       "</div>"
      ],
      "text/plain": [
       "   movieId                               title  \\\n",
       "0        1                    Toy Story (1995)   \n",
       "1        2                      Jumanji (1995)   \n",
       "2        3             Grumpier Old Men (1995)   \n",
       "3        4            Waiting to Exhale (1995)   \n",
       "4        5  Father of the Bride Part II (1995)   \n",
       "\n",
       "                                        genres  \n",
       "0  Adventure|Animation|Children|Comedy|Fantasy  \n",
       "1                   Adventure|Children|Fantasy  \n",
       "2                               Comedy|Romance  \n",
       "3                         Comedy|Drama|Romance  \n",
       "4                                       Comedy  "
      ]
     },
     "execution_count": 10,
     "metadata": {},
     "output_type": "execute_result"
    }
   ],
   "source": [
    "movies_df.head()"
   ]
  },
  {
   "cell_type": "code",
   "execution_count": 11,
   "id": "4aeaed7c",
   "metadata": {},
   "outputs": [],
   "source": [
    "movie_id = 862"
   ]
  },
  {
   "cell_type": "code",
   "execution_count": null,
   "id": "8b976ffa",
   "metadata": {},
   "outputs": [],
   "source": []
  },
  {
   "cell_type": "code",
   "execution_count": 32,
   "id": "0d12894f",
   "metadata": {},
   "outputs": [
    {
     "data": {
      "text/html": [
       "<img src=\"https://image.tmdb.org/t/p/w500//uXDfjJbdP4ijW5hWSBrPrlKpxab.jpg\"/>"
      ],
      "text/plain": [
       "<IPython.core.display.Image object>"
      ]
     },
     "metadata": {},
     "output_type": "display_data"
    }
   ],
   "source": [
    "from IPython.display import Image, display\n",
    "\n",
    "image_url = fetch_poster(movie_id)\n",
    "display(Image(url=image_url))\n"
   ]
  },
  {
   "cell_type": "code",
   "execution_count": 33,
   "id": "c3f56de3",
   "metadata": {},
   "outputs": [
    {
     "data": {
      "text/html": [
       "\n",
       "        <iframe\n",
       "            width=\"800\"\n",
       "            height=\"600\"\n",
       "            src=\"https://www.imdb.com/title/tt0113497/\"\n",
       "            frameborder=\"0\"\n",
       "            allowfullscreen\n",
       "            \n",
       "        ></iframe>\n",
       "        "
      ],
      "text/plain": [
       "<IPython.lib.display.IFrame at 0x227167ee8d0>"
      ]
     },
     "execution_count": 33,
     "metadata": {},
     "output_type": "execute_result"
    }
   ],
   "source": [
    "from IPython.display import IFrame\n",
    "\n",
    "# Define the URL\n",
    "url = \"https://www.imdb.com/title/tt0113497/\"\n",
    "\n",
    "# Display the content in an iframe\n",
    "IFrame(url, width=800, height=600)\n"
   ]
  },
  {
   "cell_type": "code",
   "execution_count": null,
   "id": "6e97adf7",
   "metadata": {},
   "outputs": [],
   "source": [
    "https://www.imdb.com/title/tt0(113497)/"
   ]
  }
 ],
 "metadata": {
  "kernelspec": {
   "display_name": "Python 3 (ipykernel)",
   "language": "python",
   "name": "python3"
  },
  "language_info": {
   "codemirror_mode": {
    "name": "ipython",
    "version": 3
   },
   "file_extension": ".py",
   "mimetype": "text/x-python",
   "name": "python",
   "nbconvert_exporter": "python",
   "pygments_lexer": "ipython3",
   "version": "3.11.5"
  }
 },
 "nbformat": 4,
 "nbformat_minor": 5
}
