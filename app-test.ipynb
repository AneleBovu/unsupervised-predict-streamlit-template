{
 "cells": [
  {
   "cell_type": "code",
   "execution_count": 3,
   "id": "66ab4a31",
   "metadata": {},
   "outputs": [],
   "source": [
    "# Data handling dependencies\n",
    "import pandas as pd\n",
    "import numpy as np\n",
    "import csv\n",
    "from sklearn.metrics.pairwise import cosine_similarity\n",
    "from sklearn.feature_extraction.text import CountVectorizer\n",
    "\n",
    "# Custom Libraries\n",
    "import sys\n",
    "sys.path.append(r'C:\\Users\\Kamogelo\\AppData\\Local\\Packages\\PythonSoftwareFoundation.Python.3.12_qbz5n2kfra8p0\\LocalCache\\local-packages\\Python312\\Scripts\\surprise.exe')\n",
    "from utils.data_loader import load_movie_titles\n",
    "from recommenders.collaborative_based import collab_model\n",
    "from recommenders.content_based import content_model\n"
   ]
  },
  {
   "cell_type": "code",
   "execution_count": 18,
   "id": "d01a6c5f",
   "metadata": {},
   "outputs": [],
   "source": [
    "\n",
    "# Data Loading\n",
    "title_list = load_movie_titles('resources/data/movies.csv')\n",
    "movies_df =  pd.read_csv('resources/data/movies.csv', index_col='movieId')"
   ]
  },
  {
   "cell_type": "code",
   "execution_count": 26,
   "id": "a6a81f16",
   "metadata": {},
   "outputs": [],
   "source": [
    "\n",
    "def data_preprocessing(subset_size):\n",
    "    \"\"\"Prepare data for use within Content filtering algorithm.\n",
    "    Pandas Dataframe\n",
    "        Subset of movies selected for content-based filtering.\n",
    "\n",
    "    \"\"\"\n",
    "    # Split genre data into individual words.\n",
    "    movies['keyWords'] = movies['genres'].str.replace('|', ' ')\n",
    "    # Subset of the data\n",
    "    movies_subset = movies[:subset_size]\n",
    "    return movies_subset\n",
    " \n",
    "def content_model(movie_list,top_n=10): \n",
    "    \"\"\"Performs Content filtering based upon a list of movies supplied\n",
    "       by the app user.\n",
    "    \"\"\"\n",
    "    # Initializing the empty list of recommended movies\n",
    "    data = data_preprocessing(2000)\n",
    "    # Instantiating and generating the count matrix\n",
    "    count_vec = CountVectorizer()\n",
    "    count_matrix = count_vec.fit_transform(data['keyWords'])\n",
    "    indices = pd.Series(data['title'])\n",
    "    cosine_sim = cosine_similarity(count_matrix, count_matrix)\n",
    "    cosine_sim = pd.DataFrame(cosine_sim, index = data.index, columns = data.index)\n",
    "    # Getting the index of the movie that matches the title\n",
    "    idx_1 = indices[indices == movie_list[0]].index[0]\n",
    "    idx_2 = indices[indices == movie_list[1]].index[0]\n",
    "    idx_3 = indices[indices == movie_list[2]].index[0]\n",
    "    # Creating a Series with the similarity scores in descending order\n",
    "    rank_1 = cosine_sim[idx_1]\n",
    "    rank_2 = cosine_sim[idx_2]\n",
    "    rank_3 = cosine_sim[idx_3]\n",
    "    # Calculating the scores\n",
    "    score_series_1 = pd.Series(rank_1).sort_values(ascending = False)\n",
    "    score_series_2 = pd.Series(rank_2).sort_values(ascending = False)\n",
    "    score_series_3 = pd.Series(rank_3).sort_values(ascending = False)\n",
    "    # Getting the indexes of the 10 most similar movies\n",
    "    listings = pd.concat([score_series_1, score_series_2, score_series_3]).sort_values(ascending=False)\n",
    "    # Store movie names\n",
    "    recommended_movies = []\n",
    "    # Appending the names of movies\n",
    "    top_50_indexes = list(listings.iloc[1:50].index)\n",
    "    # Removing chosen movies\n",
    "    top_indexes = np.setdiff1d(top_50_indexes,[idx_1,idx_2,idx_3])\n",
    "    for i in top_indexes[:top_n]:\n",
    "        recommended_movies.append(list(movies['title'])[i])\n",
    "    return recommended_movies"
   ]
  },
  {
   "cell_type": "code",
   "execution_count": 31,
   "id": "e13400c1",
   "metadata": {},
   "outputs": [
    {
     "data": {
      "text/plain": [
       "['Dracula: Dead and Loving It (1995)',\n",
       " 'Lamerica (1994)',\n",
       " 'Confessional, The (Confessionnal, Le) (1995)',\n",
       " 'Eye for an Eye (1996)',\n",
       " 'In the Bleak Midwinter (1995)',\n",
       " \"Jupiter's Wife (1994)\",\n",
       " 'Frankie Starlight (1995)',\n",
       " 'Stars Fell on Henrietta, The (1995)',\n",
       " 'Drop Zone (1994)',\n",
       " 'Ed Wood (1994)']"
      ]
     },
     "execution_count": 31,
     "metadata": {},
     "output_type": "execute_result"
    }
   ],
   "source": [
    "movies = movies_df.dropna()\n",
    "movie_list = [title_list[1],title_list[2],title_list[3]]\n",
    "content_model(movie_list,top_n=10)"
   ]
  },
  {
   "cell_type": "code",
   "execution_count": null,
   "id": "79b43f95",
   "metadata": {},
   "outputs": [],
   "source": []
  },
  {
   "cell_type": "code",
   "execution_count": null,
   "id": "7d33b754",
   "metadata": {},
   "outputs": [],
   "source": []
  }
 ],
 "metadata": {
  "kernelspec": {
   "display_name": "Python 3 (ipykernel)",
   "language": "python",
   "name": "python3"
  },
  "language_info": {
   "codemirror_mode": {
    "name": "ipython",
    "version": 3
   },
   "file_extension": ".py",
   "mimetype": "text/x-python",
   "name": "python",
   "nbconvert_exporter": "python",
   "pygments_lexer": "ipython3",
   "version": "3.11.5"
  }
 },
 "nbformat": 4,
 "nbformat_minor": 5
}
